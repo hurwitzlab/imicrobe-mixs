{
 "cells": [
  {
   "cell_type": "code",
   "execution_count": null,
   "metadata": {},
   "outputs": [],
   "source": [
    "import ftplib\n",
    "import gzip\n",
    "import hashlib\n",
    "import os\n",
    "import xml.dom.minidom as minidom\n",
    "\n",
    "import requests"
   ]
  },
  {
   "cell_type": "code",
   "execution_count": null,
   "metadata": {},
   "outputs": [],
   "source": [
    "fastq_content = '@read_name\\nGATTTGGG\\n+\\n********\\n'\n",
    "md5_chksum = hashlib.md5(fastq_content.encode('UTF-8')).hexdigest()\n",
    "with gzip.open('upload_test.fastq.gz', 'wt') as upload_test:\n",
    "    upload_test.write(fastq_content)"
   ]
  },
  {
   "cell_type": "markdown",
   "metadata": {},
   "source": [
    "The initial file upload is made via FTP.\n",
    "The ENA documentation at http://ena-docs.readthedocs.io/en/latest/upload_01.html gives the FTP parameters:\n",
    "1. Host: webin.ebi.ac.uk\n",
    "2. Mode: binary\n",
    "3. User: Webin user\n",
    "4. Password: Webin password"
   ]
  },
  {
   "cell_type": "code",
   "execution_count": null,
   "metadata": {},
   "outputs": [],
   "source": [
    "with ftplib.FTP(host='webin.ebi.ac.uk', user=os.environ['WEBIN_UN'], passwd=os.environ['WEBIN_PW']) as wftp:\n",
    "    print('### get welcome')\n",
    "    print(wftp.getwelcome())\n",
    "    print('###')\n",
    "    \n",
    "    print('### dir')\n",
    "    print(wftp.dir())\n",
    "    print('###')\n",
    "    \n",
    "    print('### stor')\n",
    "    wftp.storbinary('STOR upload_test.fastq.gz', open('upload_test.fastq.gz', 'rb'))\n",
    "    print('###')\n",
    "    \n",
    "    print('### dir')\n",
    "    print(wftp.dir())\n",
    "    print('###')"
   ]
  },
  {
   "cell_type": "markdown",
   "metadata": {},
   "source": [
    "## Submit a Study (also known as a Project)"
   ]
  },
  {
   "cell_type": "markdown",
   "metadata": {},
   "source": [
    "Several XML documents are required.\n",
    "The 'submission' document indicates the action to take.  For example to add a study use this submission document:\n",
    "<SUBMISSION>\n",
    "     <ACTIONS>\n",
    "         <ACTION>\n",
    "             <ADD/>\n",
    "         </ACTION>\n",
    "    </ACTIONS>\n",
    "</SUBMISSION>\n",
    "\n",
    "Notes:\n",
    "1. If no release date is provided then submitted studies and any associated objects will be publicly released two years after the date of study submission.\n",
    "\n"
   ]
  },
  {
   "cell_type": "code",
   "execution_count": null,
   "metadata": {},
   "outputs": [],
   "source": [
    "submission_add_xml = \"\"\"\\\n",
    "<?xml version=\"1.0\" encoding=\"UTF-8\"?>\n",
    "<SUBMISSION center_name=\"the central center\">\n",
    "   <ACTIONS>\n",
    "      <ACTION>\n",
    "         <ADD/>\n",
    "      </ACTION>\n",
    "   </ACTIONS>\n",
    "</SUBMISSION>\n",
    "\"\"\"\n",
    "submission_add_xml_fp = \"submission_add.xml\"\n",
    "# text or binary?\n",
    "with open(submission_add_xml_fp, \"wt\") as submission_file:\n",
    "    submission_file.write(submission_add_xml)"
   ]
  },
  {
   "cell_type": "code",
   "execution_count": null,
   "metadata": {},
   "outputs": [],
   "source": [
    "study_xml = \"\"\"\\\n",
    "<?xml version = '1.0' encoding = 'UTF-8'?>\n",
    "<PROJECT_SET>\n",
    "   <PROJECT alias=\"imicrobe_programmatic_study\" center_name=\"the central center\">\n",
    "      <TITLE>Demonstration of Programmatic Data Submission</TITLE>\n",
    "      <DESCRIPTION>A demonstration of programmatic data submission.</DESCRIPTION>\n",
    "      <SUBMISSION_PROJECT>\n",
    "         <SEQUENCING_PROJECT/>\n",
    "      </SUBMISSION_PROJECT>\n",
    "   </PROJECT>\n",
    "</PROJECT_SET>\n",
    "\"\"\"\n",
    "study_xml_fp = \"study.xml\"\n",
    "with open(study_xml_fp, \"wt\") as study_file:\n",
    "    study_file.write(study_xml)"
   ]
  },
  {
   "cell_type": "code",
   "execution_count": null,
   "metadata": {},
   "outputs": [],
   "source": [
    "url = \"https://wwwdev.ebi.ac.uk/ena/submit/drop-box/submit/\"\n",
    "files = {\"SUBMISSION\": open(\"submission_add.xml\", \"rb\"), \"PROJECT\": open(\"study.xml\", \"rb\")}\n",
    "\n",
    "r = requests.post(url, files=files, auth=(os.environ[\"WEBIN_UN\"], os.environ[\"WEBIN_PW\"]))\n",
    "r.text"
   ]
  },
  {
   "cell_type": "code",
   "execution_count": null,
   "metadata": {},
   "outputs": [],
   "source": [
    "print(minidom.parseString(r.text).toprettyxml(indent=\"  \"))"
   ]
  },
  {
   "cell_type": "markdown",
   "metadata": {},
   "source": [
    "## Submit a Sample\n",
    "\n",
    "Note: The sample XML comes from the documentation but I had to add SAMPLE_ATTRIBUTE \"project name\"."
   ]
  },
  {
   "cell_type": "code",
   "execution_count": null,
   "metadata": {},
   "outputs": [],
   "source": [
    "sample_xml = \"\"\"\\\n",
    "<?xml version=\"1.0\" encoding=\"UTF-8\"?>\n",
    "<SAMPLE_SET>\n",
    "  <SAMPLE alias=\"IMICROBESAMPLE\" center_name=\"the central center\">\n",
    "    <TITLE>human gastric microbiota, mucosal</TITLE>\n",
    "    <SAMPLE_NAME>\n",
    "      <TAXON_ID>1284369</TAXON_ID>\n",
    "      <SCIENTIFIC_NAME>stomach metagenome</SCIENTIFIC_NAME>\n",
    "      <COMMON_NAME></COMMON_NAME>\n",
    "    </SAMPLE_NAME>\n",
    "    <SAMPLE_ATTRIBUTES>\n",
    "      <SAMPLE_ATTRIBUTE>\n",
    "        <TAG>project name</TAG>\n",
    "        <VALUE>imicrobe_programmatic_study</VALUE>\n",
    "      </SAMPLE_ATTRIBUTE>\n",
    "      <SAMPLE_ATTRIBUTE>\n",
    "        <TAG>investigation type</TAG>\n",
    "        <VALUE>mimarks-survey</VALUE>\n",
    "      </SAMPLE_ATTRIBUTE>\n",
    "      <SAMPLE_ATTRIBUTE>\n",
    "        <TAG>sequencing method</TAG>\n",
    "        <VALUE>pyrosequencing</VALUE>\n",
    "      </SAMPLE_ATTRIBUTE>\n",
    "      <SAMPLE_ATTRIBUTE>\n",
    "        <TAG>collection date</TAG>\n",
    "        <VALUE>2010</VALUE>\n",
    "      </SAMPLE_ATTRIBUTE>\n",
    "      <SAMPLE_ATTRIBUTE>\n",
    "        <TAG>host body site</TAG>\n",
    "        <VALUE>Mucosa of stomach</VALUE>\n",
    "      </SAMPLE_ATTRIBUTE>\n",
    "      <SAMPLE_ATTRIBUTE>\n",
    "        <TAG>human-associated environmental package</TAG>\n",
    "        <VALUE>human-associated</VALUE>\n",
    "      </SAMPLE_ATTRIBUTE>\n",
    "      <SAMPLE_ATTRIBUTE>\n",
    "        <TAG>geographic location (latitude)</TAG>\n",
    "        <VALUE>1.81</VALUE>\n",
    "        <UNITS>DD</UNITS>\n",
    "      </SAMPLE_ATTRIBUTE>\n",
    "      <SAMPLE_ATTRIBUTE>\n",
    "        <TAG>geographic location (longitude)</TAG>\n",
    "        <VALUE>-78.76</VALUE>\n",
    "        <UNITS>DD</UNITS>\n",
    "      </SAMPLE_ATTRIBUTE>\n",
    "      <SAMPLE_ATTRIBUTE>\n",
    "        <TAG>geographic location (country and/or sea)</TAG>\n",
    "        <VALUE>Colombia</VALUE>\n",
    "      </SAMPLE_ATTRIBUTE>\n",
    "      <SAMPLE_ATTRIBUTE>\n",
    "        <TAG>geographic location (region and locality)</TAG>\n",
    "        <VALUE>Tumaco</VALUE>\n",
    "      </SAMPLE_ATTRIBUTE>\n",
    "      <SAMPLE_ATTRIBUTE>\n",
    "        <TAG>environment (biome)</TAG>\n",
    "        <VALUE>coast</VALUE>\n",
    "      </SAMPLE_ATTRIBUTE>\n",
    "      <SAMPLE_ATTRIBUTE>\n",
    "        <TAG>environment (feature)</TAG>\n",
    "        <VALUE>human-associated habitat</VALUE>\n",
    "      </SAMPLE_ATTRIBUTE>\n",
    "      <SAMPLE_ATTRIBUTE>\n",
    "        <TAG>environment (material)</TAG>\n",
    "        <VALUE>gastric biopsy</VALUE>\n",
    "      </SAMPLE_ATTRIBUTE>\n",
    "      <SAMPLE_ATTRIBUTE>\n",
    "        <TAG>ENA-CHECKLIST</TAG>\n",
    "        <VALUE>ERC000014</VALUE>\n",
    "      </SAMPLE_ATTRIBUTE>\n",
    "    </SAMPLE_ATTRIBUTES>\n",
    "  </SAMPLE>\n",
    "</SAMPLE_SET>\n",
    "\"\"\"\n",
    "sample_xml_fp = \"sample.xml\"\n",
    "with open(sample_xml_fp, \"wt\") as sample_file:\n",
    "    sample_file.write(sample_xml)"
   ]
  },
  {
   "cell_type": "code",
   "execution_count": null,
   "metadata": {},
   "outputs": [],
   "source": [
    "url = \"https://wwwdev.ebi.ac.uk/ena/submit/drop-box/submit/\"\n",
    "files = {\"SUBMISSION\": open(\"submission_add.xml\", \"rb\"), \"SAMPLE\": open(\"sample.xml\", \"rb\")}\n",
    "\n",
    "r = requests.post(url, files=files, auth=(os.environ[\"WEBIN_UN\"], os.environ[\"WEBIN_PW\"]))\n",
    "r.text"
   ]
  },
  {
   "cell_type": "code",
   "execution_count": null,
   "metadata": {},
   "outputs": [],
   "source": [
    "print(minidom.parseString(r.text).toprettyxml(indent=\"  \"))"
   ]
  },
  {
   "cell_type": "markdown",
   "metadata": {},
   "source": [
    "## Submit a file of reads\n",
    "\n",
    "Note: files must be compressed."
   ]
  },
  {
   "cell_type": "code",
   "execution_count": null,
   "metadata": {},
   "outputs": [],
   "source": [
    "exp_xml = \"\"\"\\\n",
    "<EXPERIMENT_SET>\n",
    "   <EXPERIMENT alias=\"imicrobe_exp\" center_name=\"the central center\">\n",
    "       <TITLE>The 1KITE project: evolution of insects</TITLE>\n",
    "       <STUDY_REF accession=\"SRP017801\"/>\n",
    "       <DESIGN>\n",
    "           <DESIGN_DESCRIPTION/>\n",
    "           <SAMPLE_DESCRIPTOR accession=\"SRS462875\"/>\n",
    "           <LIBRARY_DESCRIPTOR>\n",
    "               <LIBRARY_NAME/>\n",
    "               <LIBRARY_STRATEGY>RNA-Seq</LIBRARY_STRATEGY>\n",
    "               <LIBRARY_SOURCE>TRANSCRIPTOMIC</LIBRARY_SOURCE>\n",
    "               <LIBRARY_SELECTION>cDNA</LIBRARY_SELECTION>\n",
    "               <LIBRARY_LAYOUT>\n",
    "                   <SINGLE/>\n",
    "               </LIBRARY_LAYOUT>\n",
    "               <LIBRARY_CONSTRUCTION_PROTOCOL>Messenger RNA (mRNA) was isolated using the Dynabeads mRNA Purification Kit (Invitrogen, Carlsbad Ca. USA) and then sheared using divalent cations at 72*C. These cleaved RNA fragments were transcribed into first-strand cDNA using II Reverse Transcriptase (Invitrogen, Carlsbad Ca. USA) and N6 primer (IDT). The second-strand cDNA was subsequently synthesized using RNase H (Invitrogen, Carlsbad Ca. USA) and DNA polymerase I (Invitrogen, Shanghai China). The double-stranded cDNA then underwent end-repair, a single `A? base addition, adapter ligati on, and size selection on anagarose gel (250 * 20 bp). At last, the product was indexed and PCR amplified to finalize the library prepration for the paired-end cDNA.</LIBRARY_CONSTRUCTION_PROTOCOL>\n",
    "           </LIBRARY_DESCRIPTOR>\n",
    "       </DESIGN>\n",
    "       <PLATFORM>\n",
    "           <ILLUMINA>\n",
    "               <INSTRUMENT_MODEL>Illumina HiSeq 2000</INSTRUMENT_MODEL>\n",
    "           </ILLUMINA>\n",
    "       </PLATFORM>\n",
    "       <EXPERIMENT_ATTRIBUTES>\n",
    "           <EXPERIMENT_ATTRIBUTE>\n",
    "               <TAG>library preparation date</TAG>\n",
    "               <VALUE>2010-08</VALUE>\n",
    "           </EXPERIMENT_ATTRIBUTE>\n",
    "       </EXPERIMENT_ATTRIBUTES>\n",
    "   </EXPERIMENT>\n",
    "</EXPERIMENT_SET>\"\"\"\n",
    "exp_xml_fp = \"exp.xml\"\n",
    "with open(exp_xml_fp, \"wt\") as exp_file:\n",
    "    exp_file.write(exp_xml)"
   ]
  },
  {
   "cell_type": "code",
   "execution_count": null,
   "metadata": {},
   "outputs": [],
   "source": [
    "md5_chksum"
   ]
  },
  {
   "cell_type": "code",
   "execution_count": null,
   "metadata": {},
   "outputs": [],
   "source": [
    "run_xml = \"\"\"\\\n",
    "<RUN_SET>\n",
    "    <RUN alias=\"imicrobe_run\" center_name=\"the central center\">\n",
    "        <EXPERIMENT_REF refname=\"imicrobe_exp\"/>\n",
    "        <DATA_BLOCK>\n",
    "            <FILES>\n",
    "                <FILE filename=\"upload_test.fastq.gz\" filetype=\"fastq\" \n",
    "                      checksum_method=\"MD5\" checksum=\"3d8eb596dd5a236850449e1482f5e1aa\"/>\n",
    "            </FILES>\n",
    "        </DATA_BLOCK>\n",
    "    </RUN>\n",
    "</RUN_SET>\n",
    "\"\"\"\n",
    "run_xml_fp = \"run.xml\"\n",
    "with open(run_xml_fp, \"wt\") as run_file:\n",
    "    run_file.write(run_xml)"
   ]
  },
  {
   "cell_type": "code",
   "execution_count": null,
   "metadata": {},
   "outputs": [],
   "source": [
    "url = \"https://wwwdev.ebi.ac.uk/ena/submit/drop-box/submit/\"\n",
    "files = {\"SUBMISSION\": open(\"submission_add.xml\", \"rb\"), \"EXPERIMENT\": open(\"exp.xml\", \"rb\"), \"RUN\": open(\"run.xml\", \"rb\")}\n",
    "\n",
    "r = requests.post(url, files=files, auth=(os.environ[\"WEBIN_UN\"], os.environ[\"WEBIN_PW\"]))\n",
    "r.text"
   ]
  },
  {
   "cell_type": "code",
   "execution_count": null,
   "metadata": {},
   "outputs": [],
   "source": [
    "print(minidom.parseString(r.text).toprettyxml(indent=\"  \"))"
   ]
  },
  {
   "cell_type": "code",
   "execution_count": null,
   "metadata": {},
   "outputs": [],
   "source": []
  }
 ],
 "metadata": {
  "language_info": {
   "name": "python",
   "pygments_lexer": "ipython3"
  }
 },
 "nbformat": 4,
 "nbformat_minor": 2
}
